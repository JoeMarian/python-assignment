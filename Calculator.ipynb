{
 "cells": [
  {
   "cell_type": "markdown",
   "metadata": {},
   "source": [
    "Data Hiding"
   ]
  },
  {
   "cell_type": "code",
   "execution_count": 1,
   "metadata": {},
   "outputs": [
    {
     "name": "stdout",
     "output_type": "stream",
     "text": [
      "1\n",
      "Apple\n"
     ]
    }
   ],
   "source": [
    "class Simple:\n",
    "    def __init__(self):\n",
    "        self.value_1=1\n",
    "        self.value_2=2\n",
    "    def _A1_(self):\n",
    "        print(\"Apple\")\n",
    "    def _A2_(self):\n",
    "        print(\"Banana\")\n",
    "s=Simple()\n",
    "print(s.value_1)\n",
    "s._A1_()\n"
   ]
  },
  {
   "cell_type": "markdown",
   "metadata": {},
   "source": [
    "TKINTER\n",
    "\n",
    "Helps to create GUI application"
   ]
  },
  {
   "cell_type": "code",
   "execution_count": 2,
   "metadata": {},
   "outputs": [
    {
     "data": {
      "text/plain": [
       "'from tkinter import *\\nwindow = Tk()\\ninp = Label(window, text=\"Hello World\")\\ninp.pack()\\nwindow.mainloop()'"
      ]
     },
     "execution_count": 2,
     "metadata": {},
     "output_type": "execute_result"
    }
   ],
   "source": [
    "'''from tkinter import *\n",
    "window = Tk()\n",
    "inp = Label(window, text=\"Hello World\")\n",
    "inp.pack()\n",
    "window.mainloop()'''"
   ]
  },
  {
   "cell_type": "code",
   "execution_count": 3,
   "metadata": {},
   "outputs": [
    {
     "data": {
      "text/plain": [
       "'from tkinter import *\\nwindow = Tk()\\nwindow.title(\"Simple\")\\nwindow.geometry(\"500x700\")\\nwindow.config(bg=\"blue\")\\nframe1=Frame(window,bg=\"red\")\\n\\nmainloop()'"
      ]
     },
     "execution_count": 3,
     "metadata": {},
     "output_type": "execute_result"
    }
   ],
   "source": [
    "'''from tkinter import *\n",
    "window = Tk()\n",
    "window.title(\"Simple\")\n",
    "window.geometry(\"500x700\")\n",
    "window.config(bg=\"blue\")\n",
    "frame1=Frame(window,bg=\"red\")\n",
    "\n",
    "mainloop()'''"
   ]
  },
  {
   "cell_type": "markdown",
   "metadata": {},
   "source": [
    "Calculator"
   ]
  },
  {
   "cell_type": "code",
   "execution_count": null,
   "metadata": {},
   "outputs": [
    {
     "name": "stderr",
     "output_type": "stream",
     "text": [
      "2025-01-16 21:45:51.163 Python[84223:24602503] +[IMKClient subclass]: chose IMKClient_Modern\n",
      "2025-01-16 21:45:51.163 Python[84223:24602503] +[IMKInputSession subclass]: chose IMKInputSession_Modern\n"
     ]
    },
    {
     "ename": "",
     "evalue": "",
     "output_type": "error",
     "traceback": [
      "\u001b[1;31mThe Kernel crashed while executing code in the current cell or a previous cell. \n",
      "\u001b[1;31mPlease review the code in the cell(s) to identify a possible cause of the failure. \n",
      "\u001b[1;31mClick <a href='https://aka.ms/vscodeJupyterKernelCrash'>here</a> for more info. \n",
      "\u001b[1;31mView Jupyter <a href='command:jupyter.viewOutput'>log</a> for further details."
     ]
    }
   ],
   "source": [
    "from tkinter import *\n",
    "\n",
    "window = Tk()\n",
    "window.geometry(\"500x500\")\n",
    "\n",
    "e=Entry(window,width=56, borderwidth=5)\n",
    "e.place(x=0,y=0)\n",
    "\n",
    "def click(num):\n",
    "    result=e.get()\n",
    "    e.delete(0,END)\n",
    "    e.insert(0,str(result)+str(num))\n",
    "\n",
    "b=Button(window,text='1',width=12,command=lambda:click(1))\n",
    "b.place(x=10,y=60)\n",
    "\n",
    "b=Button(window,text='2',width=12,command=lambda:click(2))\n",
    "b.place(x=80,y=60)\n",
    "\n",
    "b=Button(window,text='3',width=12,command=lambda:click(3))\n",
    "b.place(x=170,y=60)\n",
    "\n",
    "b=Button(window,text='4',width=12,command=lambda:click(4))\n",
    "b.place(x=10,y=120)\n",
    "\n",
    "b=Button(window,text='5',width=12,command=lambda:click(5))\n",
    "b.place(x=80,y=120)\n",
    "\n",
    "b=Button(window,text='6',width=12,command=lambda:click(6))\n",
    "b.place(x=170,y=120)\n",
    "\n",
    "b=Button(window,text='7',width=12,command=lambda:click(7))\n",
    "b.place(x=10,y=180)\n",
    "\n",
    "b=Button(window,text='8',width=12,command=lambda:click(8))\n",
    "b.place(x=80,y=180)\n",
    "\n",
    "b=Button(window,text='9',width=12,command=lambda:click(9))\n",
    "b.place(x=170,y=180)\n",
    "\n",
    "b=Button(window,text='0',width=12,command=lambda:click(0))\n",
    "b.place(x=10,y=240)\n",
    "\n",
    "def add():\n",
    "    n1=e.get()\n",
    "    global Math\n",
    "    Math=\"Addition\"\n",
    "    global i\n",
    "    i = int(n1)\n",
    "    e.delete(0,END)\n",
    "\n",
    "b=Button(window,text='+',width=12,command=add)\n",
    "b.place(x=80,y=240)\n",
    "\n",
    "def sub():\n",
    "    n1=e.get()\n",
    "    global Math\n",
    "    Math=\"Subtraction\"\n",
    "    global i\n",
    "    i = int(n1)\n",
    "    e.delete(0,END)\n",
    "\n",
    "b=Button(window,text='-',width=12,command=sub)\n",
    "b.place(x=170,y=240)\n",
    "\n",
    "def mul():\n",
    "    n1=e.get()\n",
    "    global Math\n",
    "    Math = \"Multiplication\"\n",
    "    global i\n",
    "    i = int(n1)\n",
    "    e.delete(0,END)\n",
    "\n",
    "b=Button(window,text='*',width=12,command=mul)\n",
    "b.place(x=10,y=300)\n",
    "\n",
    "def div():\n",
    "    n1=e.get()\n",
    "    global Math\n",
    "    Math = \"Dividion\"\n",
    "    global i\n",
    "    i = int(n1)\n",
    "    e.delete(0,END)\n",
    "\n",
    "b=Button(window,text='/',width=12,command=div)\n",
    "b.place(x=80,y=200)\n",
    "\n",
    "def equal():\n",
    "    n2=e.get()\n",
    "    e.delete(0,END)\n",
    "    if Math == \"Addition\":\n",
    "        e.insert(0,i+int(n2))\n",
    "    elif Math == \"Subtraction\":\n",
    "        e.insert(0,i-int(n2))\n",
    "    elif Math == \"Multiplication\":\n",
    "        e.insert(0,i-int(n2))\n",
    "    elif Math == \"Dividion\":\n",
    "        e.insert(0,i/int(n2))\n",
    "    \n",
    "\n",
    "\n",
    "b=Button(window,text='=',width=12,command=equal)\n",
    "b.place(x=170,y=300)\n",
    "\n",
    "def claer():\n",
    "    e.delete(0,END)\n",
    "b=Button(window,text='clear',width=12)\n",
    "b.place(x=10,y=350)\n",
    "mainloop()"
   ]
  }
 ],
 "metadata": {
  "kernelspec": {
   "display_name": "Python 3",
   "language": "python",
   "name": "python3"
  },
  "language_info": {
   "codemirror_mode": {
    "name": "ipython",
    "version": 3
   },
   "file_extension": ".py",
   "mimetype": "text/x-python",
   "name": "python",
   "nbconvert_exporter": "python",
   "pygments_lexer": "ipython3",
   "version": "3.11.9"
  }
 },
 "nbformat": 4,
 "nbformat_minor": 2
}
